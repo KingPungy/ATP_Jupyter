{
 "cells": [
  {
   "cell_type": "markdown",
   "metadata": {},
   "source": [
    "# Practicum OO - AOP\n",
    "Dit bestand bevat de practicumopgaven voor de module OO&AOP van het vak Advanced Technical Programming (TCIT-VKATP-17). \n",
    "\n",
    "Een Jupyter Notebook bestaat uit cells met code of toelichting. Sommige code-cells hoeven enkel uitgevoerd te worden om functies beschikbaar te maken, anderen moet je zelf in vullen (opdrachten staan duidelijk met kopjes gemarkeerd, je moet dan zelf de delen met TODO invullen). Je kunt de code per cel uitvoeren door de cel te selecteren en \"run cell\" te kiezen. De cel direct hieronder laadt de nodige modules in. Als je code niet naar verwachting werkt kan het zijn dat je deze cell moet runnen, of een van de andere cels vóór de cel met error. Let erop dat als je de Jupyter-server afsluit en later verder gaat moet je deze cells opnieuw runnen."
   ]
  },
  {
   "cell_type": "code",
   "execution_count": 7,
   "metadata": {},
   "outputs": [],
   "source": [
    "from unittest import *    \n",
    "import doctest\n",
    "import io\n",
    "import inspect\n",
    "from contextlib import redirect_stdout"
   ]
  },
  {
   "cell_type": "markdown",
   "metadata": {},
   "source": [
    "__Opdrachten die zijn gemarkeerd met _[PORTFOLIO]_ dienen te worden opgenomen in je portfolio voor de eindopgave__.\n",
    "\n",
    "Laat deze opdrachten door je docent aftekenen aan het einde van de les (of aan het begin van de volgende les)."
   ]
  },
  {
   "cell_type": "markdown",
   "metadata": {},
   "source": [
    "***\n",
    "## College 2: Reflectie en metaprogrammeren\n",
    "Deze opdrachten gaan over het college over reflectie en metaprogrammeren en dienen aan het einde van dat college te worden gemaakt.\n",
    "\n",
    "Maak ook de opdrachten in de reader!\n",
    "\n",
    "\n",
    "#### Opdracht 2.1 — OO in Python [Portfolio]\n",
    "Een Queue is gebaseerd op het FIFO-principe: First In First Out\n",
    "\n",
    "<img src=\"queue.png\" width=\"500px\">\n",
    "\n",
    "`enqueue` voegt een element achteraan toe.  \n",
    "`dequeue` haalt een element vooraan weg.\n",
    "\n",
    "De volgende klasse implementeert Queue:"
   ]
  },
  {
   "cell_type": "code",
   "execution_count": 8,
   "metadata": {},
   "outputs": [],
   "source": [
    "class MyQueue(list):\n",
    "    def __init__(self, a=[]):\n",
    "        list.__init__(self, a)\n",
    "    \n",
    "    def dequeue(self):\n",
    "        return self.pop(0) # geen fout-afhandeling\n",
    "    \n",
    "    def enqueue(self, x):\n",
    "        self.append(x)"
   ]
  },
  {
   "cell_type": "markdown",
   "metadata": {},
   "source": [
    "Python heeft een aantal ingebouwde queue-klassen: Queue, LifeQueue, PriorityQueue, en deque.\n",
    "\n",
    "`deque` staat voor double-ended queue: aan beide kanten van de queue kan worden toegevoegd en verwijderd.\n",
    "\n",
    "Breidt de klasse `MyQueue` uit tot de klasse `MyDeQue`.\n",
    "\n",
    "De klasse heeft de volgende methoden:\n",
    "* `appendright(x)`: voeg `x` aan de rechterkant toe\n",
    "* `appendleft(x)`: voeg `x` aan de linkerkant toe\n",
    "* `popright()`: verwijder en retourneer het element dat helemaal rechts staat\n",
    "* `popleft()`: verwijder en retourneer het element dat helemaal links staat\n",
    "* `reverse()`: keer de elementen in de queue om\n",
    "* `rotateright(n)`: verschuif de elementen `n` posities naar rechts.\n",
    "  Als `n < 0`: verschuif de elementen (`-n`)  posities naar links.\n",
    "* `rotateleft(n)`: verschuif de elementen `n` posities naar links.\n",
    "  Als `n < 0`: verschuif de elementen (`-n`) posities naar rechts.\n",
    "  \n",
    "Maak zoveel mogelijk gebruik van de andere methoden en methoden uit de super-klassen. Zorg voor een goede fout-afhandeling.\n",
    "\n",
    "Denk er ook aan dat je voldoende tests schrijft om de functionaliteit zoals hierboven gegeven kan garanderen!"
   ]
  },
  {
   "cell_type": "code",
   "execution_count": 10,
   "metadata": {},
   "outputs": [],
   "source": [
    "class MyDeQue(MyQueue):\n",
    "    def __init__(self, a=[]):\n",
    "        super().__init__(a)\n",
    "    \n",
    "    def appendright(self, x):\n",
    "        self.enqueue(x)\n",
    "    \n",
    "    def appendleft(self, x):\n",
    "        self.insert(0, x)\n",
    "    \n",
    "    def popright(self):\n",
    "        if len(self) == 0:\n",
    "            raise IndexError(\"pop from an empty MyDeQue\")\n",
    "        return self.pop()\n",
    "    \n",
    "    def popleft(self):\n",
    "        if len(self) == 0:\n",
    "            raise IndexError(\"pop from an empty MyDeQue\")\n",
    "        return self.dequeue()\n",
    "    \n",
    "    def reverse(self):\n",
    "        self[:] = self[::-1]\n",
    "    \n",
    "    def rotateright(self, n):\n",
    "        if n >= 0:\n",
    "            n %= len(self)\n",
    "            self[:] = self[-n:] + self[:-n]\n",
    "        else:\n",
    "            self.rotateleft(-n)\n",
    "    \n",
    "    def rotateleft(self, n):\n",
    "        if n >= 0:\n",
    "            n %= len(self)\n",
    "            self[:] = self[n:] + self[:n]\n",
    "        else:\n",
    "            self.rotateright(-n)\n",
    "            \n",
    "            \n",
    "\n",
    "def test_MyDeQue():\n",
    "    # test appendright\n",
    "    q = MyDeQue([1, 2, 3])\n",
    "    q.appendright(4)\n",
    "    assert list(q) == [1, 2, 3, 4]\n",
    "    \n",
    "    # test appendleft\n",
    "    q = MyDeQue([1, 2, 3])\n",
    "    q.appendleft(0)\n",
    "    assert list(q) == [0, 1, 2, 3]\n",
    "    \n",
    "    # test popright\n",
    "    q = MyDeQue([1, 2, 3])\n",
    "    assert q.popright() == 3\n",
    "    assert list(q) == [1, 2]\n",
    "    q = MyDeQue([])\n",
    "    try:\n",
    "        q.popright()\n",
    "    except IndexError:\n",
    "        pass\n",
    "    else:\n",
    "        assert False, \"popright from empty MyDeQue should raise IndexError\"\n",
    "    \n",
    "    # test popleft\n",
    "    q = MyDeQue([1, 2, 3])\n",
    "    assert q.popleft() == 1\n",
    "    assert list(q) == [2, 3]\n",
    "    q = MyDeQue([])\n",
    "    try:\n",
    "        q.popleft()\n",
    "    except IndexError:\n",
    "        pass\n",
    "    else:\n",
    "        assert False, \"popleft from empty MyDeQue should raise IndexError\"\n",
    "    \n",
    "    # test rotateright\n",
    "    q = MyDeQue([1, 2, 3, 4, 5])\n",
    "    q.rotateright(2)\n",
    "    assert list(q) == [4, 5, 1, 2, 3]\n",
    "    q = MyDeQue([1, 2, 3, 4, 5])\n",
    "    q.rotateright(-2)\n",
    "    assert list(q) == [3, 4, 5, 1, 2]\n",
    "    \n",
    "    # test rotateleft\n",
    "    q = MyDeQue([1, 2, 3, 4, 5])\n",
    "    q.rotateleft(2)\n",
    "    assert list(q) == [3, 4, 5, 1, 2]\n",
    "    q = MyDeQue([1, 2, 3, 4, 5])\n",
    "    q.rotateleft(-2)\n",
    "    assert list(q) == [4, 5, 1, 2, 3]\n",
    "\n",
    "    \n",
    "test_MyDeQue()"
   ]
  },
  {
   "cell_type": "markdown",
   "metadata": {},
   "source": [
    "#### Opdracht 2.2 — `eval` en veiligheid [Portfolio]\n",
    "\n",
    "Raadpleeg de site https://www.programiz.com/python-programming/methods/built-in/eval\n",
    "\n",
    "Een eenvoudige interactieve expressie-evaluator is de volgende:"
   ]
  },
  {
   "cell_type": "code",
   "execution_count": 4,
   "metadata": {},
   "outputs": [
    {
     "name": "stdout",
     "output_type": "stream",
     "text": [
      "Type an expression: quit\n",
      "exit code\n"
     ]
    }
   ],
   "source": [
    "while True:\n",
    "    r = input(\"Type an expression: \")\n",
    "    if r == \"quit\": \n",
    "        print(\"exit code\")\n",
    "        break\n",
    "    print(\"Result:\", eval(r))"
   ]
  },
  {
   "cell_type": "markdown",
   "metadata": {},
   "source": [
    "Een dergelijke evaluator is onveilig. Als de gebruiker in een Linux-omgeving de expressie `os.system('rm -rf *')` intikt, kan er veel schade worden aangericht. Je kunt dit voorkomen door bij de eval-functie een dictionary mee te geven.\n",
    "\n",
    "Schrijf de klasse SimpleSecureEvaluator. De klasse bevat een dictionary-attribuut `d` en een methode `eval`.\n",
    "\n",
    "De klasse wordt gebruikt bij interactieve sessies, waarbij de gebruiker het volgende kan invoeren:\n",
    "* een toekenningsopdracht. De opdracht van de vorm `<variabele> = <expressie>` wordt opgeslagen in dictionary-attribuut `d`. Hierbij wordt <variabele> als key-waarde opgeslagen. De expressie wordt eerst geëvalueerd en het resultaat wordt als value-waarde bij de key-waarde opgeslagen. Ook opdrachten van de vorm `i = i +1` zijn toegestaan, maar alleen variabelen van voorafgaande toekenningsopdrachten mogen in de expressie voorkomen.\n",
    "* een expressie. Alleen variabelen van voorafgaande toekenningsopdrachten mogen in de expressie voorkomen. Bij de evaluatie van de expressie wordt gebruik gemaakt van `d`. Het resultaat wordt aan de gebruiker getoond.\n",
    "* de opdracht `mydir`. De dictionary `d` wordt dan getoond."
   ]
  },
  {
   "cell_type": "code",
   "execution_count": null,
   "metadata": {},
   "outputs": [
    {
     "name": "stdout",
     "output_type": "stream",
     "text": [
      "Type an expression: m a f a = 2\n",
      "Type an expression: mydir\n",
      "m a f a = 2\n"
     ]
    }
   ],
   "source": [
    "class SimpleSecureEvaluator(object):\n",
    "    def __init__(self):\n",
    "        self.d = {}  # lege dictionary\n",
    "\n",
    "    def eval(self, expressie):\n",
    "        if \"=\" in expressie:\n",
    "            # toekenningsopdracht\n",
    "            variabele, expr = expressie.split(\"=\")\n",
    "            variabele = variabele.strip()\n",
    "            expr = expr.strip()\n",
    "            for var in self.d:\n",
    "                if var in expr:\n",
    "                    expr = expr.replace(var, str(self.d[var]))\n",
    "            value = eval(expr)\n",
    "            self.d[variabele] = value\n",
    "        elif expressie == \"mydir\":\n",
    "            # toon de dictionary\n",
    "            for key in self.d:\n",
    "                print(key, \"=\", self.d[key])\n",
    "        else:\n",
    "            # expressie evaluatie\n",
    "            for var in self.d:\n",
    "                if var in expressie:\n",
    "                    expressie = expressie.replace(var, str(self.d[var]))\n",
    "            print(eval(expressie))\n",
    "\n",
    "            \n",
    "sse = SimpleSecureEvaluator()\n",
    "while True:\n",
    "    r = input(\"Type an expression: \")\n",
    "    if r == \"quit\": \n",
    "        print(\"exit code\")\n",
    "        break\n",
    "    sse.eval(r)\n",
    "    \n",
    "    \n",
    "# Output\n",
    "#============\n",
    "# Type an expression: i = 1\n",
    "# Type an expression: b = 2\n",
    "# Type an expression: i = b + i\n",
    "# Type an expression: mydir\n",
    "# i = 3\n",
    "# b = 2\n",
    "# Type an expression: quit\n",
    "# exit code"
   ]
  },
  {
   "cell_type": "markdown",
   "metadata": {},
   "source": [
    "#### Opdracht 2.3.1 — Introspectie van functies\n",
    "Schrijf een programma dat van een gegeven pyc-file (`function_demo.pyc`) nagaat welke functies de file bevat. Bepaal bij iedere functie de signature en de documentatie. Test de functies.\n",
    "\n",
    "Ga als volgt te werk:\n",
    "* Pas de opdracht `dir(<modulename>)` toe. Het resultaat is een lijst van element-namen van de file. De lijst bevat strings.\n",
    "* Bepaal van ieder element het type. Gebruik hierbij de eval-functie.\n",
    "* Maak gebruik van het volgende: voor een functie `f` geldt: `type(f).__name__ = 'function'`.\n",
    "* Gebruikt de functies `signature` en `getdoc` van de module `inspect`.\n",
    "\n",
    "---------------------------------"
   ]
  },
  {
   "cell_type": "code",
   "execution_count": 6,
   "metadata": {},
   "outputs": [
    {
     "ename": "ImportError",
     "evalue": "bad magic number in 'function_demo_3_5': b'\\x16\\r\\r\\n'",
     "output_type": "error",
     "traceback": [
      "\u001b[1;31m---------------------------------------------------------------------------\u001b[0m",
      "\u001b[1;31mImportError\u001b[0m                               Traceback (most recent call last)",
      "Cell \u001b[1;32mIn[6], line 6\u001b[0m\n\u001b[0;32m      1\u001b[0m \u001b[38;5;66;03m# import function_demo_3_5 # Select correct import for your interpreter version\u001b[39;00m\n\u001b[0;32m      2\u001b[0m \u001b[38;5;66;03m# import function_demo_3_6\u001b[39;00m\n\u001b[0;32m      3\u001b[0m \n\u001b[0;32m      4\u001b[0m \u001b[38;5;66;03m# TODO: zie hierboven\u001b[39;00m\n\u001b[1;32m----> 6\u001b[0m \u001b[38;5;28;01mimport\u001b[39;00m \u001b[38;5;21;01mfunction_demo_3_5\u001b[39;00m\n\u001b[0;32m      7\u001b[0m \u001b[38;5;28;01mimport\u001b[39;00m \u001b[38;5;21;01minspect\u001b[39;00m\n\u001b[0;32m      9\u001b[0m \u001b[38;5;66;03m# Lijst van element-namen in function_demo.pyc\u001b[39;00m\n",
      "\u001b[1;31mImportError\u001b[0m: bad magic number in 'function_demo_3_5': b'\\x16\\r\\r\\n'"
     ]
    }
   ],
   "source": [
    "# import function_demo_3_5 # Select correct import for your interpreter version\n",
    "# import function_demo_3_6\n",
    "\n",
    "# TODO: zie hierboven\n",
    "\n",
    "import function_demo_3_5\n",
    "import inspect\n",
    "\n",
    "# Lijst van element-namen in function_demo.pyc\n",
    "elementen = dir(function_demo)\n",
    "\n",
    "# Filter de functies uit de elementenlijst\n",
    "functies = [eval('function_demo.' + x) for x in elementen if type(eval('function_demo.' + x)).__name__ == 'function']\n",
    "\n",
    "# Loop door elke functie en print de naam, signature en documentatie\n",
    "for f in functies:\n",
    "    print(f.__name__)\n",
    "    print(inspect.signature(f))\n",
    "    print(inspect.getdoc(f))\n",
    "    print('---')"
   ]
  },
  {
   "cell_type": "markdown",
   "metadata": {},
   "source": [
    "#### Opdracht 2.3.2 — Introspectie van klassen\n",
    "Schrijf een programma dat van de gegeven pyc-file (`class_demo.pyc`) nagaat welke klassen de file bevat.\n",
    "\n",
    "Ga te werk zoals bij opdracht 2.3.1.\n",
    "\n",
    "Bedenk daarbij het volgende:\n",
    "* Voor een klasse `C` geldt: `type(c).__name__ == 'type'`\n",
    "* Voor een methode `m` geldt: `type(m).__name__ == 'function'`"
   ]
  },
  {
   "cell_type": "code",
   "execution_count": null,
   "metadata": {},
   "outputs": [],
   "source": [
    "# import class_demo_3_5\n",
    "# import class_demo_3_6\n",
    "\n",
    "# TODO: zie hierboven"
   ]
  },
  {
   "cell_type": "markdown",
   "metadata": {},
   "source": [
    "#### Opdracht 2.4 — Decorators [ Portfolio]\n",
    "Een decorator is een functie die andere functies aanpast om zodanig (aspect-oriented) functionaliteit toe te voegen. Denk bijvoorbeeld aan de optie op een timing toe te  voegen (hoe lang duurt het uitvoeren van een bepaalde functie-aanroep), of security aspecten (alleen als het juiste pincode/password wordt ingevoerd na aanroep zal de functie ook echt worden uitgevoerd).\n",
    "\n",
    "Het basispatroon van een decorator is het volgende:"
   ]
  },
  {
   "cell_type": "code",
   "execution_count": 17,
   "metadata": {},
   "outputs": [
    {
     "name": "stdout",
     "output_type": "stream",
     "text": [
      "Execution time: 1.012918472290039 seconds\n",
      "4\n",
      "--------------------\n",
      "2.0\n",
      "--------------------\n",
      "Execution time: 0.0 seconds\n",
      "2.0\n"
     ]
    }
   ],
   "source": [
    "from functools import wraps\n",
    "import time\n",
    "\n",
    "def myDecorator(f):\n",
    "    # Definieer een binnenste functie, die je om de 'oude' functie heen 'wrapt'\n",
    "    @wraps(f) #Gebruik van wraps niet noodzakelijk (zie reader), maar wel netter\n",
    "    def inner(*args, **kwargs):\n",
    "        start_time = time.time()  # Record the start time\n",
    "        result = f(*args, **kwargs)\n",
    "        end_time = time.time()  # Record the end time\n",
    "\n",
    "        execution_time = end_time - start_time\n",
    "        print(\"Execution time:\", execution_time, \"seconds\")\n",
    "\n",
    "        return result\n",
    "    return inner\n",
    "\n",
    "# Toepassen d.m.v. '@' alleen mogelijk bij definitie van de functie!\n",
    "@myDecorator\n",
    "def successor(x):\n",
    "    time.sleep(1)\n",
    "    return x+1\n",
    "\n",
    "print(successor(3))\n",
    "print('-'*20)\n",
    "\n",
    "# Maar het kan ook door 'overschrijven' van eerder gedefinieerde functie (= hernoemen van de functie-pointer)\n",
    "from math import sqrt\n",
    "print(sqrt(4)) # nog niets verandert\n",
    "\n",
    "print('-'*20)\n",
    "\n",
    "sqrt = myDecorator(sqrt)\n",
    "print(sqrt(4)) # nu wel!"
   ]
  },
  {
   "cell_type": "markdown",
   "metadata": {},
   "source": [
    "Herschrijf de decorator hierboven zodat hij naar het scherm schrijft welke functie (naam) uit welke module (naam) er gedraait is. Je kan deze decorator vervolgens toepassen bij de volgende opdracht, als je kan achterhalen hoe je hem toevoegd aan __alle__ functies van __alle__ modules van de simulator."
   ]
  },
  {
   "cell_type": "markdown",
   "metadata": {},
   "source": [
    "#### Eindopdracht\n",
    "Gebruik de beschrijving van de simulator in hoofdstuk 6.1 van de reader en introspectie om:\n",
    "* Het functioneren van de simulator te achterhalen;\n",
    "* Tests te kunnen draaien om de correctheid van de simulator te achterhalen (functioneert de simulator vergelijkbaar met de fysieke opstelling?);\n",
    "* De controller unit van de simulator te vervangen door een eigen geschreven variant.\n",
    "\n",
    "De Python-byte code van de simulator is toegevoegd in de folder `simulator-3.5` (voor Python 3.5) en `simulator-3.6` (voor Python 3.6). Gebruik `main.py` om de simulator te starten.   \n",
    "De GUI vereist de installatie van PyGame; gebruik `pip3 install pygame` in een prompt om de pygame-module te installeren (draai als Admin op Windows)."
   ]
  },
  {
   "cell_type": "code",
   "execution_count": null,
   "metadata": {},
   "outputs": [],
   "source": [
    "from simulator_3_6 import main\n",
    "\n",
    "main()"
   ]
  },
  {
   "cell_type": "code",
   "execution_count": null,
   "metadata": {},
   "outputs": [],
   "source": []
  }
 ],
 "metadata": {
  "kernelspec": {
   "display_name": "Python 3 (ipykernel)",
   "language": "python",
   "name": "python3"
  },
  "language_info": {
   "codemirror_mode": {
    "name": "ipython",
    "version": 3
   },
   "file_extension": ".py",
   "mimetype": "text/x-python",
   "name": "python",
   "nbconvert_exporter": "python",
   "pygments_lexer": "ipython3",
   "version": "3.10.6"
  }
 },
 "nbformat": 4,
 "nbformat_minor": 2
}
